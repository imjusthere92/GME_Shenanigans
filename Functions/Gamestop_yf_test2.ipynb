{
 "cells": [
  {
   "cell_type": "code",
   "execution_count": 1,
   "id": "df2aed78",
   "metadata": {},
   "outputs": [],
   "source": [
    "## Install yahoo finance \n",
    "\n",
    "# pip install yfinance "
   ]
  },
  {
   "cell_type": "code",
   "execution_count": 2,
   "id": "fe7cd806",
   "metadata": {},
   "outputs": [],
   "source": [
    "import yfinance as yf\n",
    "\n",
    "# import os\n",
    "# import requests\n",
    "import pandas as pd\n",
    "# from pandas_datareader import data as pdr\n",
    "# from dotenv import load_dotenv\n",
    "# import alpaca_trade_api as tradeapi\n",
    "\n",
    "# %matplotlib inline\n",
    "# gme_floatShares_Sep_11_2021 = 249507367"
   ]
  },
  {
   "cell_type": "code",
   "execution_count": 3,
   "id": "847011a3",
   "metadata": {},
   "outputs": [],
   "source": [
    "gamestop = yf.Ticker(\"GME\")"
   ]
  },
  {
   "cell_type": "code",
   "execution_count": 4,
   "id": "06e0c4c6",
   "metadata": {},
   "outputs": [],
   "source": [
    "gme = gamestop.info"
   ]
  },
  {
   "cell_type": "code",
   "execution_count": 5,
   "id": "b506cb3c",
   "metadata": {},
   "outputs": [
    {
     "data": {
      "text/plain": [
       "76491504"
      ]
     },
     "execution_count": 5,
     "metadata": {},
     "output_type": "execute_result"
    }
   ],
   "source": [
    "gme['sharesOutstanding']"
   ]
  },
  {
   "cell_type": "code",
   "execution_count": 6,
   "id": "cbbaa3c6",
   "metadata": {},
   "outputs": [
    {
     "data": {
      "text/plain": [
       "249507367"
      ]
     },
     "execution_count": 6,
     "metadata": {},
     "output_type": "execute_result"
    }
   ],
   "source": [
    "gme['floatShares']"
   ]
  },
  {
   "cell_type": "code",
   "execution_count": 7,
   "id": "bb724595",
   "metadata": {},
   "outputs": [],
   "source": [
    "#print(gme)"
   ]
  },
  {
   "cell_type": "code",
   "execution_count": 8,
   "id": "ca6c849b",
   "metadata": {},
   "outputs": [
    {
     "name": "stdout",
     "output_type": "stream",
     "text": [
      "1001769984\n",
      "\n",
      "801734075\n"
     ]
    }
   ],
   "source": [
    "tesla = yf.Ticker(\"TSLA\")\n",
    "\n",
    "tsla = tesla.info\n",
    "\n",
    "print(tsla['sharesOutstanding'])\n",
    "print()\n",
    "print(tsla['floatShares'])"
   ]
  },
  {
   "cell_type": "code",
   "execution_count": 9,
   "id": "5c65cc2d",
   "metadata": {},
   "outputs": [],
   "source": [
    "def share_float_function(ticker):\n",
    "    # get ticker data and read relevant statistics into usable format from .info \n",
    "    ticker_data = yf.Ticker(ticker)\n",
    "    ticker_info = ticker_data.info\n",
    "    \n",
    "    # access values \n",
    "    sharesOutstanding = float(ticker_info['sharesOutstanding'])\n",
    "    floatShares = float(ticker_info['floatShares'])\n",
    "    \n",
    "    # Calculate percentage of float compared to outstanding \n",
    "    percentage = floatShares / sharesOutstanding * 100 \n",
    "    percentage = round(percentage, 2)\n",
    "    print(\"Shares outstanding =\", sharesOutstanding)\n",
    "    print(\"Shares in float =\", floatShares)\n",
    "    print(f\"Percentage of outstanding = \"+str(percentage)+\"%\")\n",
    "    return percentage"
   ]
  },
  {
   "cell_type": "code",
   "execution_count": 10,
   "id": "3ff37543",
   "metadata": {},
   "outputs": [
    {
     "name": "stdout",
     "output_type": "stream",
     "text": [
      "Shares outstanding = 76491504.0\n",
      "Shares in float = 249507367.0\n",
      "Percentage of outstanding = 326.19%\n"
     ]
    },
    {
     "data": {
      "text/plain": [
       "326.19"
      ]
     },
     "execution_count": 10,
     "metadata": {},
     "output_type": "execute_result"
    }
   ],
   "source": [
    "share_float_function(\"GME\")"
   ]
  },
  {
   "cell_type": "code",
   "execution_count": 11,
   "id": "d71a3c86",
   "metadata": {},
   "outputs": [
    {
     "name": "stdout",
     "output_type": "stream",
     "text": [
      "Shares outstanding = 1001769984.0\n",
      "Shares in float = 801734075.0\n",
      "Percentage of outstanding = 80.03%\n"
     ]
    },
    {
     "data": {
      "text/plain": [
       "80.03"
      ]
     },
     "execution_count": 11,
     "metadata": {},
     "output_type": "execute_result"
    }
   ],
   "source": [
    "share_float_function(\"TSLA\")"
   ]
  },
  {
   "cell_type": "code",
   "execution_count": 12,
   "id": "11ae3123",
   "metadata": {},
   "outputs": [],
   "source": [
    "# x = input('Enter your Ticker:')\n",
    "# print('Ticker = ' + x)\n",
    "# print()\n",
    "\n",
    "# share_float_function(x)"
   ]
  },
  {
   "cell_type": "code",
   "execution_count": 13,
   "id": "0201bb9b",
   "metadata": {},
   "outputs": [],
   "source": [
    "def repeating_function():\n",
    "    again = \"y\"\n",
    "    \n",
    "    while again == \"y\":\n",
    "            x = input('Enter your Ticker:')\n",
    "            print('Ticker = ' + x)\n",
    "            print()\n",
    "\n",
    "            share_float_function(x)\n",
    "            print()\n",
    "\n",
    "            again = input('Run again? (y/n) :') \n",
    "            \n",
    "    else: return"
   ]
  },
  {
   "cell_type": "code",
   "execution_count": null,
   "id": "0987b579",
   "metadata": {},
   "outputs": [
    {
     "name": "stdin",
     "output_type": "stream",
     "text": [
      "Enter your Ticker: FB\n"
     ]
    },
    {
     "name": "stdout",
     "output_type": "stream",
     "text": [
      "Ticker = FB\n",
      "\n",
      "Shares outstanding = 2383810048.0\n",
      "Shares in float = 2372224214.0\n",
      "Percentage of outstanding = 99.51%\n",
      "\n"
     ]
    }
   ],
   "source": [
    "repeating_function()"
   ]
  },
  {
   "cell_type": "code",
   "execution_count": null,
   "id": "72ff577a",
   "metadata": {},
   "outputs": [],
   "source": [
    "gme"
   ]
  },
  {
   "cell_type": "code",
   "execution_count": null,
   "id": "7059fb36",
   "metadata": {},
   "outputs": [],
   "source": []
  }
 ],
 "metadata": {
  "kernelspec": {
   "display_name": "Python 3",
   "language": "python",
   "name": "python3"
  },
  "language_info": {
   "codemirror_mode": {
    "name": "ipython",
    "version": 3
   },
   "file_extension": ".py",
   "mimetype": "text/x-python",
   "name": "python",
   "nbconvert_exporter": "python",
   "pygments_lexer": "ipython3",
   "version": "3.7.10"
  }
 },
 "nbformat": 4,
 "nbformat_minor": 5
}
