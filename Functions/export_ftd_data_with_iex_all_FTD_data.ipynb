{
 "cells": [
  {
   "cell_type": "code",
   "execution_count": 1,
   "id": "0b64b3e5",
   "metadata": {},
   "outputs": [
    {
     "data": {
      "text/plain": [
       "True"
      ]
     },
     "execution_count": 1,
     "metadata": {},
     "output_type": "execute_result"
    }
   ],
   "source": [
    "import pandas as pd\n",
    "\n",
    "import glob\n",
    "\n",
    "from pathlib import Path\n",
    "import csv\n",
    "\n",
    "import os\n",
    "import requests\n",
    "import json\n",
    "\n",
    "from dotenv import load_dotenv\n",
    "load_dotenv()"
   ]
  },
  {
   "cell_type": "code",
   "execution_count": 2,
   "id": "b113f905",
   "metadata": {},
   "outputs": [],
   "source": [
    "## Calls and Functions for reading data downloaded from SEC website \n",
    "header = \"SETTLEMENT DATE|CUSIP|SYMBOL|QUANTITY (FAILS)|DESCRIPTION|PRICE\"\n",
    "\n",
    "path = r'C:\\Users\\watso\\Desktop\\TherinFintech\\GME_Shenanigans\\SEC_Files_CSV' # USE YOUR PATH \n",
    "all_files = glob.glob(path + \"/*.csv\")\n",
    "\n",
    "GME_CUSIP_number = \"36467W109\"   \n",
    "GME_symbol = 'GME'\n",
    "\n",
    "CUSIP_number = \"36467W109\"   # Default  \n",
    "symbol = 'GME'               # Default\n",
    "\n",
    "# Main function - passing the CUSIP number (most important) and setting the symbol will deliver\n",
    "#                 FTD data sorted by CUSIP number \n",
    "# All other functions here exist to support this \n",
    "def return_dataframe(cusip_number,symbol):\n",
    "    df = read_ftd_data_any_stock(cusip_number,symbol)\n",
    "    df = fix_dataframe(df)\n",
    "    return df\n",
    "\n",
    "# Use return_dataframe as your function to call FTD Data \n",
    "\n",
    "\n",
    "def read_ftd_file(csv_path, cusip_number, symbol):\n",
    "    data = pd.read_csv(\n",
    "    Path(csv_path),\n",
    "    index_col=False\n",
    "    )\n",
    "    \n",
    "    data[header] = data[header].str.replace('|',',')\n",
    "    new_data = data.rename(columns={header:'SETTLEMENT_DATE,CUSIP,SYMBOL,QUANTITY_FAILS,DESCRIPTION,PRICE'})\n",
    "    Header = \"Header\"\n",
    "    new_data = data.rename(columns={header:Header})\n",
    "    \n",
    "    new_data = new_data.Header.str.split(\",\",expand=True)\n",
    "    new_data = new_data.rename(columns={0:'Date',1:'CUSIP',2:'SYMBOL',3:'QUANTITY_FAILS',4:'DESCRIPTION',5:'PRICE'})\n",
    "    \n",
    "    new_data = new_data.set_index(\"CUSIP\")\n",
    "    new_data = new_data.loc[cusip_number]\n",
    "    \n",
    "    new_data = new_data[['Date','QUANTITY_FAILS','PRICE']]\n",
    "    new_data.rename(columns={'PRICE':symbol},inplace=True)\n",
    "    new_data.set_index('Date',inplace=True)  \n",
    "    \n",
    "    new_data = new_data.reset_index()\n",
    "    new_data['Date'] = pd.to_datetime(new_data['Date'])\n",
    "    new_data.set_index('Date',inplace=True)\n",
    "    new_data = new_data[['QUANTITY_FAILS']]\n",
    "    new_data.rename(columns={'QUANTITY_FAILS':symbol+'_QUANTITY_FAILS'},inplace=True)\n",
    "    \n",
    "    return new_data\n",
    "\n",
    "def read_ftd_data_any_stock(cusip_number,symbol):\n",
    "    new_df = pd.DataFrame()\n",
    "    for filename in all_files:\n",
    "        if filename == 0:\n",
    "            new_df = read_ftd_file(csv_path=filename ,cusip_number=cusip_number,symbol=symbol)\n",
    "        else:\n",
    "            new_df2 = read_ftd_file(csv_path=filename ,cusip_number=cusip_number,symbol=symbol)\n",
    "            new_df = concat_df(new_df,new_df2)\n",
    "            \n",
    "    return new_df\n",
    "\n",
    "def fix_dataframe(dataframe):\n",
    "    # For whatever reason, exporting data to CSV file, then reimporting back in using Pandas\n",
    "    # solves all issues when it comes to reading the data in the column \n",
    "    dataframe.to_csv('../FilesTemp/temp.csv')\n",
    "    dataframe = pd.read_csv(\n",
    "        Path('../FilesTemp/temp.csv'),\n",
    "        infer_datetime_format=True,\n",
    "        parse_dates=True,\n",
    "        index_col=\"Date\",\n",
    "    )\n",
    "    dataframe.sort_index(inplace=True)\n",
    "    dataframe.drop_duplicates(inplace=True)\n",
    "    return dataframe\n",
    "\n",
    "def concat_df(df_1,df_2):\n",
    "    df = pd.concat([df_1,df_2],axis='rows')\n",
    "    return df"
   ]
  },
  {
   "cell_type": "code",
   "execution_count": 3,
   "id": "b8062e64",
   "metadata": {},
   "outputs": [
    {
     "data": {
      "text/plain": [
       "<Response [200]>"
      ]
     },
     "execution_count": 3,
     "metadata": {},
     "output_type": "execute_result"
    }
   ],
   "source": [
    "## IEX Setup and Test \n",
    "\n",
    "# Don't seem to need to use real API Key \n",
    "# Sandbox API key works just fine for data \n",
    "\n",
    "#iex_api_key = os.getenv(\"IEX_API_KEY\")\n",
    "iex_test_api_key = os.getenv(\"IEX_TEST_API_KEY\")\n",
    "\n",
    "base_url = 'https://cloud.iexapis.com/stable/'\n",
    "sandbox_url = 'https://sandbox.iexapis.com/stable/'\n",
    "\n",
    "#token = os.environ.get('IEX_API_KEY')\n",
    "test_token = os.environ.get('IEX_TEST_API_KEY')\n",
    "\n",
    "test_resp = requests.get(base_url + 'status')\n",
    "test_resp"
   ]
  },
  {
   "cell_type": "code",
   "execution_count": 4,
   "id": "59f4e34a",
   "metadata": {},
   "outputs": [],
   "source": [
    "## IEX Calls and Functions \n",
    "\n",
    "def get_chart(stock_ticker, chart_range='14m'):\n",
    "    resp_data = requests.get(sandbox_url+'stock/'+stock_ticker+'/chart/'+chart_range+'?token='+test_token)\n",
    "    df = pd.DataFrame(resp_data.json())\n",
    "\n",
    "    df.rename(columns={'date':'Date'},inplace=True)\n",
    "    df['Date'] = pd.to_datetime(df['Date'])\n",
    "    df.set_index('Date',inplace=True)\n",
    "    \n",
    "    return df \n",
    "\n",
    "def get_close_price(stock_ticker, chart_range='14m'):\n",
    "\n",
    "    resp_data = requests.get(sandbox_url+'stock/'+stock_ticker+'/chart/'+chart_range+'?token='+test_token)\n",
    "    df = pd.DataFrame(resp_data.json())\n",
    "\n",
    "    df.rename(columns={'date':'Date'},inplace=True)\n",
    "    df['Date'] = pd.to_datetime(df['Date'])\n",
    "    df.set_index('Date',inplace=True)\n",
    "    \n",
    "    df = df[['close']]\n",
    "    #df.rename(columns={'close':stock_ticker},inplace=True)\n",
    "    \n",
    "    return df\n",
    "\n",
    "def get_daily_data(stock_ticker, chart_range='14m'):\n",
    "\n",
    "    resp_data = requests.get(sandbox_url+'stock/'+stock_ticker+'/chart/'+chart_range+'?token='+test_token)\n",
    "    df = pd.DataFrame(resp_data.json())\n",
    "\n",
    "    df.rename(columns={'date':'Date'},inplace=True)\n",
    "    df['Date'] = pd.to_datetime(df['Date'])\n",
    "    df.set_index('Date',inplace=True)\n",
    "    \n",
    "    df = df[['close','open','low','high','volume']]\n",
    "    #df.rename(columns={'close':stock_ticker},inplace=True)\n",
    "    \n",
    "    return df\n",
    "\n",
    "def join_ftd_and_close(ftd_df,close_df):\n",
    "    merged_df = ftd_df.merge(close_df, how='inner',right_index=True, left_index=True)\n",
    "    return merged_df"
   ]
  },
  {
   "cell_type": "code",
   "execution_count": 5,
   "id": "e2976585",
   "metadata": {},
   "outputs": [],
   "source": [
    "def do_all(cusip_number,symbol,chart_range='14m'):\n",
    "    # Default chart_range value = '1y' \n",
    "    # Get FTD Data\n",
    "    ftd_df = return_dataframe(cusip_number,symbol)\n",
    "    # Get Close Data \n",
    "    close_df = get_close_price(symbol,chart_range)\n",
    "    # Merge Data together \n",
    "    merged_df = join_ftd_and_close(ftd_df,close_df)\n",
    "    return merged_df\n",
    "\n",
    "def do_more(cusip_number,symbol,chart_range='14m'):\n",
    "    # Default chart_range value = '1y' \n",
    "    # Get FTD Data\n",
    "    ftd_df = return_dataframe(cusip_number,symbol)\n",
    "    # Get Close Data \n",
    "    close_df = get_daily_data(symbol,chart_range)\n",
    "    # Merge Data together \n",
    "    merged_df = join_ftd_and_close(ftd_df,close_df)\n",
    "    return merged_df\n",
    "\n",
    "def do_all_and_export(cusip_number,symbol,chart_range='14m'):\n",
    "    # Default chart_range value = '1y' \n",
    "    # Get FTD Data\n",
    "    ftd_df = return_dataframe(cusip_number,symbol)\n",
    "    # Get Close Data \n",
    "    close_df = get_daily_data(symbol,chart_range)\n",
    "    # Merge Data together \n",
    "    merged_df = join_ftd_and_close(ftd_df,close_df)\n",
    "    # Export Data \n",
    "    merged_df.to_csv('../FilesExport/'+symbol+'_all_data.csv')\n",
    "    return merged_df\n",
    "\n",
    "def export_ftd_csv_data(dataframe,symbol):    \n",
    "    dataframe.to_csv('../FilesExport/'+symbol+'_ftd_data.csv')"
   ]
  },
  {
   "cell_type": "code",
   "execution_count": 6,
   "id": "ddc29fae",
   "metadata": {},
   "outputs": [],
   "source": [
    "# gme_ftd_df = return_dataframe(CUSIP_number,symbol)\n",
    "# gme_ftd_df"
   ]
  },
  {
   "cell_type": "code",
   "execution_count": 7,
   "id": "fae24a8d",
   "metadata": {},
   "outputs": [],
   "source": [
    "# gme_chart = get_close_price('GME')\n",
    "# gme_chart"
   ]
  },
  {
   "cell_type": "code",
   "execution_count": 8,
   "id": "4a31760d",
   "metadata": {},
   "outputs": [],
   "source": [
    "# combined_df = join_ftd_and_close(gme_ftd_df,gme_chart)\n",
    "# combined_df"
   ]
  },
  {
   "cell_type": "code",
   "execution_count": 9,
   "id": "9e8b00a1",
   "metadata": {},
   "outputs": [],
   "source": [
    "# gme_test = do_all(GME_CUSIP_number,'GME')\n",
    "# gme_test"
   ]
  },
  {
   "cell_type": "code",
   "execution_count": 10,
   "id": "dd5bccb1",
   "metadata": {},
   "outputs": [],
   "source": [
    "# tsla_cusip = \"88160R101\" \n",
    "# tsla_symbol = 'TSLA'\n",
    "\n",
    "# # tsla_ftd_df = return_dataframe(tsla_cusip,tsla_symbol)\n",
    "# # tsla_chart = get_close_price(tsla_symbol)\n",
    "# tsla_ftd_data = do_all(tsla_cusip,tsla_symbol)\n",
    "# tsla_ftd_data"
   ]
  },
  {
   "cell_type": "code",
   "execution_count": 11,
   "id": "ba26a704",
   "metadata": {},
   "outputs": [],
   "source": [
    "# aapl_cusip = \"037833100\" \n",
    "# aapl_symbol = 'AAPL'\n",
    "\n",
    "# # aapl_ftd_df = return_dataframe(aapl_cusip,aapl_symbol)\n",
    "# # aapl_chart = get_close_price(aapl_symbol)\n",
    "# aapl_ftd_data = do_all(aapl_cusip,aapl_symbol)\n",
    "# aapl_ftd_data"
   ]
  },
  {
   "cell_type": "code",
   "execution_count": 12,
   "id": "19af1ad1",
   "metadata": {},
   "outputs": [],
   "source": [
    "# %matplotlib inline\n",
    "# def plot_fails(data,symbol):\n",
    "#     plot = data.plot(figsize=(14,5),title=symbol)\n",
    "#     return plot "
   ]
  },
  {
   "cell_type": "code",
   "execution_count": 13,
   "id": "5837de9c",
   "metadata": {},
   "outputs": [
    {
     "name": "stderr",
     "output_type": "stream",
     "text": [
      "C:\\Users\\watso\\anaconda3\\envs\\pyvizenv\\lib\\site-packages\\ipykernel_launcher.py:30: FutureWarning: The default value of regex will change from True to False in a future version. In addition, single character regular expressions will*not* be treated as literal strings when regex=True.\n"
     ]
    }
   ],
   "source": [
    "gme_export = do_all_and_export(GME_CUSIP_number,'GME')"
   ]
  },
  {
   "cell_type": "code",
   "execution_count": 14,
   "id": "05312457",
   "metadata": {},
   "outputs": [],
   "source": [
    "# AMC , BB , NOK \n",
    "amc_cusip = '00165C104'\n",
    "bb_cusip = '09228F103'\n",
    "nok_cusip = '654902204'\n",
    "\n",
    "# TLSA, SPCE, Shopify, QSR \n",
    "tsla_cusip = \"88160R101\" \n",
    "shop_cusip = '82509L107'\n",
    "qsr_cusip = '76131D103'\n",
    "spce_cusip = '92766K106'\n",
    "\n",
    "# AAPL, MSFT, JPM, Goldman, and Berkshire \n",
    "aapl_cusip = '037833100'\n",
    "msft_cusip = '594918104'\n",
    "jpm_cusip = '46625H100'\n",
    "gs_cusip = '38141G104'"
   ]
  },
  {
   "cell_type": "code",
   "execution_count": 15,
   "id": "e6b35dbb",
   "metadata": {},
   "outputs": [],
   "source": [
    "# amc_export = do_all_and_export(amc_cusip,'AMC')\n",
    "# bb_export = do_all_and_export(bb_cusip,'BB')\n",
    "# nok_export = do_all_and_export(nok_cusip,'NOK')\n",
    "# tsla_export = do_all_and_export(tsla_cusip,'TSLA')\n",
    "# shop_export = do_all_and_export(shop_cusip,'SHOP')\n",
    "# qsr_export = do_all_and_export(qsr_cusip,'QSR')\n",
    "# spce_export = do_all_and_export(spce_cusip,'SPCE')\n",
    "# aapl_export = do_all_and_export(aapl_cusip,'AAPL')\n",
    "# msft_export = do_all_and_export(msft_cusip,'MSFT')\n",
    "# jpm_export = do_all_and_export(jpm_cusip,'JPM')\n",
    "# gs_export = do_all_and_export(gs_cusip,'GS')"
   ]
  },
  {
   "cell_type": "code",
   "execution_count": 17,
   "id": "26379640",
   "metadata": {},
   "outputs": [
    {
     "data": {
      "text/html": [
       "<div>\n",
       "<style scoped>\n",
       "    .dataframe tbody tr th:only-of-type {\n",
       "        vertical-align: middle;\n",
       "    }\n",
       "\n",
       "    .dataframe tbody tr th {\n",
       "        vertical-align: top;\n",
       "    }\n",
       "\n",
       "    .dataframe thead th {\n",
       "        text-align: right;\n",
       "    }\n",
       "</style>\n",
       "<table border=\"1\" class=\"dataframe\">\n",
       "  <thead>\n",
       "    <tr style=\"text-align: right;\">\n",
       "      <th></th>\n",
       "      <th>SETTLEMENT DATE|CUSIP|SYMBOL|QUANTITY (FAILS)|DESCRIPTION|PRICE</th>\n",
       "    </tr>\n",
       "  </thead>\n",
       "  <tbody>\n",
       "    <tr>\n",
       "      <th>0</th>\n",
       "      <td>20210816|B38564108|EURN|33389|EURONAV NV ANTWE...</td>\n",
       "    </tr>\n",
       "    <tr>\n",
       "      <th>1</th>\n",
       "      <td>20210816|C00948106|AGRI|7719|AGRIFORCE GROWING...</td>\n",
       "    </tr>\n",
       "    <tr>\n",
       "      <th>2</th>\n",
       "      <td>20210816|D18190898|DB|66551|DEUTSCHE BANK AG N...</td>\n",
       "    </tr>\n",
       "    <tr>\n",
       "      <th>3</th>\n",
       "      <td>20210816|G0R21B112|ACTDW|495|ARCLIGHT CLEAN TR...</td>\n",
       "    </tr>\n",
       "    <tr>\n",
       "      <th>4</th>\n",
       "      <td>20210816|G00748114|STWOW|3700|ACON S2 ACQUISIT...</td>\n",
       "    </tr>\n",
       "  </tbody>\n",
       "</table>\n",
       "</div>"
      ],
      "text/plain": [
       "  SETTLEMENT DATE|CUSIP|SYMBOL|QUANTITY (FAILS)|DESCRIPTION|PRICE\n",
       "0  20210816|B38564108|EURN|33389|EURONAV NV ANTWE...             \n",
       "1  20210816|C00948106|AGRI|7719|AGRIFORCE GROWING...             \n",
       "2  20210816|D18190898|DB|66551|DEUTSCHE BANK AG N...             \n",
       "3  20210816|G0R21B112|ACTDW|495|ARCLIGHT CLEAN TR...             \n",
       "4  20210816|G00748114|STWOW|3700|ACON S2 ACQUISIT...             "
      ]
     },
     "execution_count": 17,
     "metadata": {},
     "output_type": "execute_result"
    }
   ],
   "source": [
    "## Read FTD file \n",
    "data = pd.read_csv(\n",
    "    Path(\"../Resources/sec_ftd_1.csv\"),\n",
    "    index_col=False\n",
    ")\n",
    "data.head()\n"
   ]
  },
  {
   "cell_type": "code",
   "execution_count": 21,
   "id": "1495cc82",
   "metadata": {},
   "outputs": [
    {
     "name": "stderr",
     "output_type": "stream",
     "text": [
      "C:\\Users\\watso\\anaconda3\\envs\\pyvizenv\\lib\\site-packages\\ipykernel_launcher.py:2: FutureWarning: The default value of regex will change from True to False in a future version. In addition, single character regular expressions will*not* be treated as literal strings when regex=True.\n",
      "  \n"
     ]
    }
   ],
   "source": [
    "header = \"SETTLEMENT DATE|CUSIP|SYMBOL|QUANTITY (FAILS)|DESCRIPTION|PRICE\"\n",
    "data[header] = data[header].str.replace('|',',')\n",
    "new_data = data.rename(columns={header:'SETTLEMENT_DATE,CUSIP,SYMBOL,QUANTITY_FAILS,DESCRIPTION,PRICE'})\n",
    "Header = \"Header\"\n",
    "new_data = data.rename(columns={header:Header})\n",
    "new_df = pd.DataFrame()\n",
    "new_df = new_data.Header.str.split(\",\",expand=True)\n",
    "new_df = new_df.rename(columns={0:'Date',1:'CUSIP',2:'SYMBOL',3:'QUANTITY_FAILS',4:'DESCRIPTION',5:'PRICE'})"
   ]
  },
  {
   "cell_type": "code",
   "execution_count": 22,
   "id": "96f0c184",
   "metadata": {},
   "outputs": [
    {
     "data": {
      "text/html": [
       "<div>\n",
       "<style scoped>\n",
       "    .dataframe tbody tr th:only-of-type {\n",
       "        vertical-align: middle;\n",
       "    }\n",
       "\n",
       "    .dataframe tbody tr th {\n",
       "        vertical-align: top;\n",
       "    }\n",
       "\n",
       "    .dataframe thead th {\n",
       "        text-align: right;\n",
       "    }\n",
       "</style>\n",
       "<table border=\"1\" class=\"dataframe\">\n",
       "  <thead>\n",
       "    <tr style=\"text-align: right;\">\n",
       "      <th></th>\n",
       "      <th>Date</th>\n",
       "      <th>CUSIP</th>\n",
       "      <th>SYMBOL</th>\n",
       "      <th>QUANTITY_FAILS</th>\n",
       "      <th>DESCRIPTION</th>\n",
       "      <th>PRICE</th>\n",
       "      <th>6</th>\n",
       "      <th>7</th>\n",
       "    </tr>\n",
       "  </thead>\n",
       "  <tbody>\n",
       "    <tr>\n",
       "      <th>0</th>\n",
       "      <td>20210816</td>\n",
       "      <td>B38564108</td>\n",
       "      <td>EURN</td>\n",
       "      <td>33389</td>\n",
       "      <td>EURONAV NV ANTWERPEN (BELGIUM)</td>\n",
       "      <td>7.75</td>\n",
       "      <td>None</td>\n",
       "      <td>None</td>\n",
       "    </tr>\n",
       "    <tr>\n",
       "      <th>1</th>\n",
       "      <td>20210816</td>\n",
       "      <td>C00948106</td>\n",
       "      <td>AGRI</td>\n",
       "      <td>7719</td>\n",
       "      <td>AGRIFORCE GROWING SYS LTD COM</td>\n",
       "      <td>2.89</td>\n",
       "      <td>None</td>\n",
       "      <td>None</td>\n",
       "    </tr>\n",
       "    <tr>\n",
       "      <th>2</th>\n",
       "      <td>20210816</td>\n",
       "      <td>D18190898</td>\n",
       "      <td>DB</td>\n",
       "      <td>66551</td>\n",
       "      <td>DEUTSCHE BANK AG NAMEN AKT (DE</td>\n",
       "      <td>12.96</td>\n",
       "      <td>None</td>\n",
       "      <td>None</td>\n",
       "    </tr>\n",
       "    <tr>\n",
       "      <th>3</th>\n",
       "      <td>20210816</td>\n",
       "      <td>G0R21B112</td>\n",
       "      <td>ACTDW</td>\n",
       "      <td>495</td>\n",
       "      <td>ARCLIGHT CLEAN TRANSITION CORP</td>\n",
       "      <td>1.12</td>\n",
       "      <td>None</td>\n",
       "      <td>None</td>\n",
       "    </tr>\n",
       "    <tr>\n",
       "      <th>4</th>\n",
       "      <td>20210816</td>\n",
       "      <td>G00748114</td>\n",
       "      <td>STWOW</td>\n",
       "      <td>3700</td>\n",
       "      <td>ACON S2 ACQUISITION CORP WT EX</td>\n",
       "      <td>1.39</td>\n",
       "      <td>None</td>\n",
       "      <td>None</td>\n",
       "    </tr>\n",
       "  </tbody>\n",
       "</table>\n",
       "</div>"
      ],
      "text/plain": [
       "       Date      CUSIP SYMBOL QUANTITY_FAILS                     DESCRIPTION  \\\n",
       "0  20210816  B38564108   EURN          33389  EURONAV NV ANTWERPEN (BELGIUM)   \n",
       "1  20210816  C00948106   AGRI           7719  AGRIFORCE GROWING SYS LTD COM    \n",
       "2  20210816  D18190898     DB          66551  DEUTSCHE BANK AG NAMEN AKT (DE   \n",
       "3  20210816  G0R21B112  ACTDW            495  ARCLIGHT CLEAN TRANSITION CORP   \n",
       "4  20210816  G00748114  STWOW           3700  ACON S2 ACQUISITION CORP WT EX   \n",
       "\n",
       "   PRICE     6     7  \n",
       "0   7.75  None  None  \n",
       "1   2.89  None  None  \n",
       "2  12.96  None  None  \n",
       "3   1.12  None  None  \n",
       "4   1.39  None  None  "
      ]
     },
     "execution_count": 22,
     "metadata": {},
     "output_type": "execute_result"
    }
   ],
   "source": [
    "new_df.head()"
   ]
  },
  {
   "cell_type": "code",
   "execution_count": 81,
   "id": "78d22f7d",
   "metadata": {},
   "outputs": [
    {
     "name": "stderr",
     "output_type": "stream",
     "text": [
      "C:\\Users\\watso\\anaconda3\\envs\\pyvizenv\\lib\\site-packages\\ipykernel_launcher.py:2: SettingWithCopyWarning: \n",
      "A value is trying to be set on a copy of a slice from a DataFrame\n",
      "\n",
      "See the caveats in the documentation: https://pandas.pydata.org/pandas-docs/stable/user_guide/indexing.html#returning-a-view-versus-a-copy\n",
      "  \n"
     ]
    },
    {
     "data": {
      "text/html": [
       "<div>\n",
       "<style scoped>\n",
       "    .dataframe tbody tr th:only-of-type {\n",
       "        vertical-align: middle;\n",
       "    }\n",
       "\n",
       "    .dataframe tbody tr th {\n",
       "        vertical-align: top;\n",
       "    }\n",
       "\n",
       "    .dataframe thead th {\n",
       "        text-align: right;\n",
       "    }\n",
       "</style>\n",
       "<table border=\"1\" class=\"dataframe\">\n",
       "  <thead>\n",
       "    <tr style=\"text-align: right;\">\n",
       "      <th></th>\n",
       "      <th>CUSIP</th>\n",
       "      <th>SYMBOL</th>\n",
       "    </tr>\n",
       "  </thead>\n",
       "  <tbody>\n",
       "    <tr>\n",
       "      <th>0</th>\n",
       "      <td>B38564108</td>\n",
       "      <td>EURN</td>\n",
       "    </tr>\n",
       "    <tr>\n",
       "      <th>1</th>\n",
       "      <td>C00948106</td>\n",
       "      <td>AGRI</td>\n",
       "    </tr>\n",
       "    <tr>\n",
       "      <th>2</th>\n",
       "      <td>D18190898</td>\n",
       "      <td>DB</td>\n",
       "    </tr>\n",
       "    <tr>\n",
       "      <th>3</th>\n",
       "      <td>G0R21B112</td>\n",
       "      <td>ACTDW</td>\n",
       "    </tr>\n",
       "    <tr>\n",
       "      <th>4</th>\n",
       "      <td>G00748114</td>\n",
       "      <td>STWOW</td>\n",
       "    </tr>\n",
       "    <tr>\n",
       "      <th>...</th>\n",
       "      <td>...</td>\n",
       "      <td>...</td>\n",
       "    </tr>\n",
       "    <tr>\n",
       "      <th>67631</th>\n",
       "      <td>983134107</td>\n",
       "      <td>WYNN</td>\n",
       "    </tr>\n",
       "    <tr>\n",
       "      <th>67661</th>\n",
       "      <td>988869103</td>\n",
       "      <td>ZMRK</td>\n",
       "    </tr>\n",
       "    <tr>\n",
       "      <th>67664</th>\n",
       "      <td>98907K202</td>\n",
       "      <td>ZNTEU</td>\n",
       "    </tr>\n",
       "    <tr>\n",
       "      <th>67678</th>\n",
       "      <td>98978N119</td>\n",
       "      <td>ZIVOW</td>\n",
       "    </tr>\n",
       "    <tr>\n",
       "      <th>67689</th>\n",
       "      <td>None</td>\n",
       "      <td>None</td>\n",
       "    </tr>\n",
       "  </tbody>\n",
       "</table>\n",
       "<p>12373 rows × 2 columns</p>\n",
       "</div>"
      ],
      "text/plain": [
       "           CUSIP SYMBOL\n",
       "0      B38564108   EURN\n",
       "1      C00948106   AGRI\n",
       "2      D18190898     DB\n",
       "3      G0R21B112  ACTDW\n",
       "4      G00748114  STWOW\n",
       "...          ...    ...\n",
       "67631  983134107   WYNN\n",
       "67661  988869103   ZMRK\n",
       "67664  98907K202  ZNTEU\n",
       "67678  98978N119  ZIVOW\n",
       "67689       None   None\n",
       "\n",
       "[12373 rows x 2 columns]"
      ]
     },
     "execution_count": 81,
     "metadata": {},
     "output_type": "execute_result"
    }
   ],
   "source": [
    "cusip_df = new_df[['CUSIP','SYMBOL']]\n",
    "cusip_df.drop_duplicates(inplace=True)\n",
    "cusip_df"
   ]
  },
  {
   "cell_type": "code",
   "execution_count": 82,
   "id": "b1bfbbae",
   "metadata": {},
   "outputs": [
    {
     "name": "stderr",
     "output_type": "stream",
     "text": [
      "C:\\Users\\watso\\anaconda3\\envs\\pyvizenv\\lib\\site-packages\\pandas\\core\\frame.py:4315: SettingWithCopyWarning: \n",
      "A value is trying to be set on a copy of a slice from a DataFrame\n",
      "\n",
      "See the caveats in the documentation: https://pandas.pydata.org/pandas-docs/stable/user_guide/indexing.html#returning-a-view-versus-a-copy\n",
      "  errors=errors,\n"
     ]
    },
    {
     "data": {
      "text/html": [
       "<div>\n",
       "<style scoped>\n",
       "    .dataframe tbody tr th:only-of-type {\n",
       "        vertical-align: middle;\n",
       "    }\n",
       "\n",
       "    .dataframe tbody tr th {\n",
       "        vertical-align: top;\n",
       "    }\n",
       "\n",
       "    .dataframe thead th {\n",
       "        text-align: right;\n",
       "    }\n",
       "</style>\n",
       "<table border=\"1\" class=\"dataframe\">\n",
       "  <thead>\n",
       "    <tr style=\"text-align: right;\">\n",
       "      <th></th>\n",
       "      <th>CUSIP</th>\n",
       "      <th>SYMBOL</th>\n",
       "    </tr>\n",
       "  </thead>\n",
       "  <tbody>\n",
       "    <tr>\n",
       "      <th>0</th>\n",
       "      <td>B38564108</td>\n",
       "      <td>EURN</td>\n",
       "    </tr>\n",
       "    <tr>\n",
       "      <th>1</th>\n",
       "      <td>C00948106</td>\n",
       "      <td>AGRI</td>\n",
       "    </tr>\n",
       "    <tr>\n",
       "      <th>2</th>\n",
       "      <td>D18190898</td>\n",
       "      <td>DB</td>\n",
       "    </tr>\n",
       "    <tr>\n",
       "      <th>3</th>\n",
       "      <td>G0R21B112</td>\n",
       "      <td>ACTDW</td>\n",
       "    </tr>\n",
       "    <tr>\n",
       "      <th>4</th>\n",
       "      <td>G00748114</td>\n",
       "      <td>STWOW</td>\n",
       "    </tr>\n",
       "    <tr>\n",
       "      <th>...</th>\n",
       "      <td>...</td>\n",
       "      <td>...</td>\n",
       "    </tr>\n",
       "    <tr>\n",
       "      <th>12367</th>\n",
       "      <td>98154X105</td>\n",
       "      <td>WSGF</td>\n",
       "    </tr>\n",
       "    <tr>\n",
       "      <th>12368</th>\n",
       "      <td>983134107</td>\n",
       "      <td>WYNN</td>\n",
       "    </tr>\n",
       "    <tr>\n",
       "      <th>12369</th>\n",
       "      <td>988869103</td>\n",
       "      <td>ZMRK</td>\n",
       "    </tr>\n",
       "    <tr>\n",
       "      <th>12370</th>\n",
       "      <td>98907K202</td>\n",
       "      <td>ZNTEU</td>\n",
       "    </tr>\n",
       "    <tr>\n",
       "      <th>12371</th>\n",
       "      <td>98978N119</td>\n",
       "      <td>ZIVOW</td>\n",
       "    </tr>\n",
       "  </tbody>\n",
       "</table>\n",
       "<p>12372 rows × 2 columns</p>\n",
       "</div>"
      ],
      "text/plain": [
       "           CUSIP SYMBOL\n",
       "0      B38564108   EURN\n",
       "1      C00948106   AGRI\n",
       "2      D18190898     DB\n",
       "3      G0R21B112  ACTDW\n",
       "4      G00748114  STWOW\n",
       "...          ...    ...\n",
       "12367  98154X105   WSGF\n",
       "12368  983134107   WYNN\n",
       "12369  988869103   ZMRK\n",
       "12370  98907K202  ZNTEU\n",
       "12371  98978N119  ZIVOW\n",
       "\n",
       "[12372 rows x 2 columns]"
      ]
     },
     "execution_count": 82,
     "metadata": {},
     "output_type": "execute_result"
    }
   ],
   "source": [
    "cusip_df.drop(67689, inplace=True)\n",
    "cusip_df.reset_index(inplace=True)\n",
    "cusip_df.drop(columns='index',inplace=True)\n",
    "cusip_df"
   ]
  },
  {
   "cell_type": "code",
   "execution_count": 36,
   "id": "71e7ae96",
   "metadata": {},
   "outputs": [
    {
     "data": {
      "text/html": [
       "<div>\n",
       "<style scoped>\n",
       "    .dataframe tbody tr th:only-of-type {\n",
       "        vertical-align: middle;\n",
       "    }\n",
       "\n",
       "    .dataframe tbody tr th {\n",
       "        vertical-align: top;\n",
       "    }\n",
       "\n",
       "    .dataframe thead th {\n",
       "        text-align: right;\n",
       "    }\n",
       "</style>\n",
       "<table border=\"1\" class=\"dataframe\">\n",
       "  <thead>\n",
       "    <tr style=\"text-align: right;\">\n",
       "      <th></th>\n",
       "      <th>CUSIP</th>\n",
       "    </tr>\n",
       "  </thead>\n",
       "  <tbody>\n",
       "    <tr>\n",
       "      <th>0</th>\n",
       "      <td>B38564108</td>\n",
       "    </tr>\n",
       "    <tr>\n",
       "      <th>1</th>\n",
       "      <td>C00948106</td>\n",
       "    </tr>\n",
       "    <tr>\n",
       "      <th>2</th>\n",
       "      <td>D18190898</td>\n",
       "    </tr>\n",
       "    <tr>\n",
       "      <th>3</th>\n",
       "      <td>G0R21B112</td>\n",
       "    </tr>\n",
       "    <tr>\n",
       "      <th>4</th>\n",
       "      <td>G00748114</td>\n",
       "    </tr>\n",
       "    <tr>\n",
       "      <th>...</th>\n",
       "      <td>...</td>\n",
       "    </tr>\n",
       "    <tr>\n",
       "      <th>12367</th>\n",
       "      <td>98154X105</td>\n",
       "    </tr>\n",
       "    <tr>\n",
       "      <th>12368</th>\n",
       "      <td>983134107</td>\n",
       "    </tr>\n",
       "    <tr>\n",
       "      <th>12369</th>\n",
       "      <td>988869103</td>\n",
       "    </tr>\n",
       "    <tr>\n",
       "      <th>12370</th>\n",
       "      <td>98907K202</td>\n",
       "    </tr>\n",
       "    <tr>\n",
       "      <th>12371</th>\n",
       "      <td>98978N119</td>\n",
       "    </tr>\n",
       "  </tbody>\n",
       "</table>\n",
       "<p>12372 rows × 1 columns</p>\n",
       "</div>"
      ],
      "text/plain": [
       "           CUSIP\n",
       "0      B38564108\n",
       "1      C00948106\n",
       "2      D18190898\n",
       "3      G0R21B112\n",
       "4      G00748114\n",
       "...          ...\n",
       "12367  98154X105\n",
       "12368  983134107\n",
       "12369  988869103\n",
       "12370  98907K202\n",
       "12371  98978N119\n",
       "\n",
       "[12372 rows x 1 columns]"
      ]
     },
     "execution_count": 36,
     "metadata": {},
     "output_type": "execute_result"
    }
   ],
   "source": [
    "cusip_list = cusip_df[['CUSIP']]\n",
    "cusip_list"
   ]
  },
  {
   "cell_type": "code",
   "execution_count": 42,
   "id": "4e813849",
   "metadata": {},
   "outputs": [],
   "source": [
    "test_list = cusip_list.head(10)\n",
    "symb_list = cusip_df[['SYMBOL']]\n",
    "symb_list = symb_list.head(10)\n",
    "test_list\n",
    "\n",
    "test_list_2 = cusip_df.head(10)"
   ]
  },
  {
   "cell_type": "code",
   "execution_count": 51,
   "id": "3695a58f",
   "metadata": {},
   "outputs": [],
   "source": [
    "cusip_10 = cusip_df.head(10)"
   ]
  },
  {
   "cell_type": "code",
   "execution_count": 43,
   "id": "e76ddfe0",
   "metadata": {},
   "outputs": [
    {
     "ename": "ValueError",
     "evalue": "too many values to unpack (expected 2)",
     "output_type": "error",
     "traceback": [
      "\u001b[1;31m---------------------------------------------------------------------------\u001b[0m",
      "\u001b[1;31mValueError\u001b[0m                                Traceback (most recent call last)",
      "\u001b[1;32m<ipython-input-43-a0cda231ea72>\u001b[0m in \u001b[0;36m<module>\u001b[1;34m\u001b[0m\n\u001b[0;32m      2\u001b[0m \u001b[1;31m#symbol_list =\u001b[0m\u001b[1;33m\u001b[0m\u001b[1;33m\u001b[0m\u001b[1;33m\u001b[0m\u001b[0m\n\u001b[0;32m      3\u001b[0m \u001b[1;33m\u001b[0m\u001b[0m\n\u001b[1;32m----> 4\u001b[1;33m \u001b[1;32mfor\u001b[0m \u001b[0mi\u001b[0m\u001b[1;33m,\u001b[0m\u001b[0mx\u001b[0m \u001b[1;32min\u001b[0m \u001b[0mtest_list_2\u001b[0m\u001b[1;33m:\u001b[0m\u001b[1;33m\u001b[0m\u001b[1;33m\u001b[0m\u001b[0m\n\u001b[0m\u001b[0;32m      5\u001b[0m     \u001b[0mtemp_variable\u001b[0m \u001b[1;33m=\u001b[0m \u001b[0mreturn_dataframe\u001b[0m\u001b[1;33m(\u001b[0m\u001b[0mi\u001b[0m\u001b[1;33m,\u001b[0m\u001b[0mx\u001b[0m\u001b[1;33m)\u001b[0m\u001b[1;33m\u001b[0m\u001b[1;33m\u001b[0m\u001b[0m\n\u001b[0;32m      6\u001b[0m     \u001b[0mnew_stock_list\u001b[0m\u001b[1;33m.\u001b[0m\u001b[0mappend\u001b[0m\u001b[1;33m(\u001b[0m\u001b[0mtemp_variable\u001b[0m\u001b[1;33m)\u001b[0m\u001b[1;33m\u001b[0m\u001b[1;33m\u001b[0m\u001b[0m\n",
      "\u001b[1;31mValueError\u001b[0m: too many values to unpack (expected 2)"
     ]
    }
   ],
   "source": [
    "# new_stock_list = []\n",
    "# #symbol_list = \n",
    "\n",
    "# for i,x in test_list_2:\n",
    "#     temp_variable = return_dataframe(i,x)\n",
    "#     new_stock_list.append(temp_variable)"
   ]
  },
  {
   "cell_type": "code",
   "execution_count": 58,
   "id": "c09a8543",
   "metadata": {},
   "outputs": [],
   "source": [
    "# adj = [\"red\", \"big\", \"tasty\"]\n",
    "# fruits = [\"apple\", \"banana\", \"cherry\"]\n",
    "\n",
    "# for x in adj:\n",
    "#   for y in fruits:\n",
    "#     print(x, y)\n",
    "\n",
    "# symb_list\n",
    "# test_list\n",
    "empty_list = []\n",
    "# for x in test_list: \n",
    "#     for y in symb_list: \n",
    "#         temp_var = return_dataframe(x,y)\n",
    "#         empty_list.append(temp_var)\n",
    "\n",
    "\n",
    "        \n",
    "# for key, value in a_dict.items():\n",
    "# ...     print(key, '->', value)\n",
    "\n",
    "\n",
    "cusip_10 = cusip_10.head()\n",
    "# for i in cusip_10.index : \n",
    "#     cusip = cusip_10['CUSIP'][i]\n",
    "#     symbol = cusip_10['SYMBOL'][i]\n",
    "    \n",
    "#     empty_list.append(return_dataframe(cusip,symbol))\n",
    "    \n",
    "# empty_list"
   ]
  },
  {
   "cell_type": "code",
   "execution_count": 59,
   "id": "52650e90",
   "metadata": {},
   "outputs": [
    {
     "data": {
      "text/html": [
       "<div>\n",
       "<style scoped>\n",
       "    .dataframe tbody tr th:only-of-type {\n",
       "        vertical-align: middle;\n",
       "    }\n",
       "\n",
       "    .dataframe tbody tr th {\n",
       "        vertical-align: top;\n",
       "    }\n",
       "\n",
       "    .dataframe thead th {\n",
       "        text-align: right;\n",
       "    }\n",
       "</style>\n",
       "<table border=\"1\" class=\"dataframe\">\n",
       "  <thead>\n",
       "    <tr style=\"text-align: right;\">\n",
       "      <th></th>\n",
       "      <th>CUSIP</th>\n",
       "      <th>SYMBOL</th>\n",
       "    </tr>\n",
       "  </thead>\n",
       "  <tbody>\n",
       "    <tr>\n",
       "      <th>0</th>\n",
       "      <td>B38564108</td>\n",
       "      <td>EURN</td>\n",
       "    </tr>\n",
       "    <tr>\n",
       "      <th>1</th>\n",
       "      <td>C00948106</td>\n",
       "      <td>AGRI</td>\n",
       "    </tr>\n",
       "    <tr>\n",
       "      <th>2</th>\n",
       "      <td>D18190898</td>\n",
       "      <td>DB</td>\n",
       "    </tr>\n",
       "    <tr>\n",
       "      <th>3</th>\n",
       "      <td>G0R21B112</td>\n",
       "      <td>ACTDW</td>\n",
       "    </tr>\n",
       "    <tr>\n",
       "      <th>4</th>\n",
       "      <td>G00748114</td>\n",
       "      <td>STWOW</td>\n",
       "    </tr>\n",
       "  </tbody>\n",
       "</table>\n",
       "</div>"
      ],
      "text/plain": [
       "       CUSIP SYMBOL\n",
       "0  B38564108   EURN\n",
       "1  C00948106   AGRI\n",
       "2  D18190898     DB\n",
       "3  G0R21B112  ACTDW\n",
       "4  G00748114  STWOW"
      ]
     },
     "execution_count": 59,
     "metadata": {},
     "output_type": "execute_result"
    }
   ],
   "source": [
    "cusip_10"
   ]
  },
  {
   "cell_type": "code",
   "execution_count": 97,
   "id": "a37451e6",
   "metadata": {},
   "outputs": [
    {
     "data": {
      "text/plain": [
       "[]"
      ]
     },
     "execution_count": 97,
     "metadata": {},
     "output_type": "execute_result"
    }
   ],
   "source": [
    "#cusip_10['CUSIP'][1]\n",
    "#C00948106\n",
    "#test_return = return_dataframe('C00948106',cusip_10['SYMBOL'][2])\n",
    "#empty_list = []\n",
    "for ind in cusip_10:\n",
    "    try:\n",
    "        temp_var = return_dataframe(cusip_10['CUSIP'][ind],cusip_10['SYMBOL'][ind])\n",
    "        empty_list.append(temp_var)\n",
    "    except:\n",
    "        pass\n",
    "    \n",
    "empty_list"
   ]
  },
  {
   "cell_type": "code",
   "execution_count": 95,
   "id": "88aff78d",
   "metadata": {},
   "outputs": [],
   "source": [
    "# index_var = 15\n",
    "# test_return = return_dataframe(cusip_df['CUSIP'][index_var],cusip_df['SYMBOL'][index_var])\n",
    "# test_return"
   ]
  },
  {
   "cell_type": "code",
   "execution_count": 76,
   "id": "08759fe4",
   "metadata": {},
   "outputs": [
    {
     "data": {
      "text/plain": [
       "CUSIP     G00748114\n",
       "SYMBOL        STWOW\n",
       "Name: 4, dtype: object"
      ]
     },
     "execution_count": 76,
     "metadata": {},
     "output_type": "execute_result"
    }
   ],
   "source": [
    "cusip_2 = cusip_df.loc[4]\n",
    "cusip_2"
   ]
  },
  {
   "cell_type": "code",
   "execution_count": 103,
   "id": "fe8f0cef",
   "metadata": {},
   "outputs": [
    {
     "name": "stderr",
     "output_type": "stream",
     "text": [
      "C:\\Users\\watso\\anaconda3\\envs\\pyvizenv\\lib\\site-packages\\ipykernel_launcher.py:30: FutureWarning: The default value of regex will change from True to False in a future version. In addition, single character regular expressions will*not* be treated as literal strings when regex=True.\n"
     ]
    },
    {
     "ename": "KeyError",
     "evalue": "'C00948106'",
     "output_type": "error",
     "traceback": [
      "\u001b[1;31m---------------------------------------------------------------------------\u001b[0m",
      "\u001b[1;31mKeyError\u001b[0m                                  Traceback (most recent call last)",
      "\u001b[1;32m~\\anaconda3\\envs\\pyvizenv\\lib\\site-packages\\pandas\\core\\indexes\\base.py\u001b[0m in \u001b[0;36mget_loc\u001b[1;34m(self, key, method, tolerance)\u001b[0m\n\u001b[0;32m   3079\u001b[0m             \u001b[1;32mtry\u001b[0m\u001b[1;33m:\u001b[0m\u001b[1;33m\u001b[0m\u001b[1;33m\u001b[0m\u001b[0m\n\u001b[1;32m-> 3080\u001b[1;33m                 \u001b[1;32mreturn\u001b[0m \u001b[0mself\u001b[0m\u001b[1;33m.\u001b[0m\u001b[0m_engine\u001b[0m\u001b[1;33m.\u001b[0m\u001b[0mget_loc\u001b[0m\u001b[1;33m(\u001b[0m\u001b[0mcasted_key\u001b[0m\u001b[1;33m)\u001b[0m\u001b[1;33m\u001b[0m\u001b[1;33m\u001b[0m\u001b[0m\n\u001b[0m\u001b[0;32m   3081\u001b[0m             \u001b[1;32mexcept\u001b[0m \u001b[0mKeyError\u001b[0m \u001b[1;32mas\u001b[0m \u001b[0merr\u001b[0m\u001b[1;33m:\u001b[0m\u001b[1;33m\u001b[0m\u001b[1;33m\u001b[0m\u001b[0m\n",
      "\u001b[1;32mpandas\\_libs\\index.pyx\u001b[0m in \u001b[0;36mpandas._libs.index.IndexEngine.get_loc\u001b[1;34m()\u001b[0m\n",
      "\u001b[1;32mpandas\\_libs\\index.pyx\u001b[0m in \u001b[0;36mpandas._libs.index.IndexEngine.get_loc\u001b[1;34m()\u001b[0m\n",
      "\u001b[1;32mpandas\\_libs\\index.pyx\u001b[0m in \u001b[0;36mpandas._libs.index.IndexEngine._get_loc_duplicates\u001b[1;34m()\u001b[0m\n",
      "\u001b[1;32mpandas\\_libs\\index.pyx\u001b[0m in \u001b[0;36mpandas._libs.index.IndexEngine._maybe_get_bool_indexer\u001b[1;34m()\u001b[0m\n",
      "\u001b[1;32mpandas\\_libs\\index.pyx\u001b[0m in \u001b[0;36mpandas._libs.index.IndexEngine._unpack_bool_indexer\u001b[1;34m()\u001b[0m\n",
      "\u001b[1;31mKeyError\u001b[0m: 'C00948106'",
      "\nThe above exception was the direct cause of the following exception:\n",
      "\u001b[1;31mKeyError\u001b[0m                                  Traceback (most recent call last)",
      "\u001b[1;32m<ipython-input-103-6734de74f48d>\u001b[0m in \u001b[0;36m<module>\u001b[1;34m\u001b[0m\n\u001b[0;32m      1\u001b[0m \u001b[0mtest_return1\u001b[0m \u001b[1;33m=\u001b[0m \u001b[0mreturn_dataframe\u001b[0m\u001b[1;33m(\u001b[0m\u001b[0mcusip_10\u001b[0m\u001b[1;33m[\u001b[0m\u001b[1;34m'CUSIP'\u001b[0m\u001b[1;33m]\u001b[0m\u001b[1;33m[\u001b[0m\u001b[1;36m0\u001b[0m\u001b[1;33m]\u001b[0m\u001b[1;33m,\u001b[0m\u001b[0mcusip_10\u001b[0m\u001b[1;33m[\u001b[0m\u001b[1;34m'SYMBOL'\u001b[0m\u001b[1;33m]\u001b[0m\u001b[1;33m[\u001b[0m\u001b[1;36m0\u001b[0m\u001b[1;33m]\u001b[0m\u001b[1;33m)\u001b[0m\u001b[1;33m\u001b[0m\u001b[1;33m\u001b[0m\u001b[0m\n\u001b[1;32m----> 2\u001b[1;33m \u001b[0mtest_return2\u001b[0m\u001b[1;33m=\u001b[0m \u001b[0mreturn_dataframe\u001b[0m\u001b[1;33m(\u001b[0m\u001b[0mcusip_10\u001b[0m\u001b[1;33m[\u001b[0m\u001b[1;34m'CUSIP'\u001b[0m\u001b[1;33m]\u001b[0m\u001b[1;33m[\u001b[0m\u001b[1;36m1\u001b[0m\u001b[1;33m]\u001b[0m\u001b[1;33m,\u001b[0m\u001b[0mcusip_10\u001b[0m\u001b[1;33m[\u001b[0m\u001b[1;34m'SYMBOL'\u001b[0m\u001b[1;33m]\u001b[0m\u001b[1;33m[\u001b[0m\u001b[1;36m1\u001b[0m\u001b[1;33m]\u001b[0m\u001b[1;33m)\u001b[0m\u001b[1;33m\u001b[0m\u001b[1;33m\u001b[0m\u001b[0m\n\u001b[0m",
      "\u001b[1;32m<ipython-input-2-61b9edd03928>\u001b[0m in \u001b[0;36mreturn_dataframe\u001b[1;34m(cusip_number, symbol)\u001b[0m\n\u001b[0;32m     15\u001b[0m \u001b[1;31m# All other functions here exist to support this\u001b[0m\u001b[1;33m\u001b[0m\u001b[1;33m\u001b[0m\u001b[1;33m\u001b[0m\u001b[0m\n\u001b[0;32m     16\u001b[0m \u001b[1;32mdef\u001b[0m \u001b[0mreturn_dataframe\u001b[0m\u001b[1;33m(\u001b[0m\u001b[0mcusip_number\u001b[0m\u001b[1;33m,\u001b[0m\u001b[0msymbol\u001b[0m\u001b[1;33m)\u001b[0m\u001b[1;33m:\u001b[0m\u001b[1;33m\u001b[0m\u001b[1;33m\u001b[0m\u001b[0m\n\u001b[1;32m---> 17\u001b[1;33m     \u001b[0mdf\u001b[0m \u001b[1;33m=\u001b[0m \u001b[0mread_ftd_data_any_stock\u001b[0m\u001b[1;33m(\u001b[0m\u001b[0mcusip_number\u001b[0m\u001b[1;33m,\u001b[0m\u001b[0msymbol\u001b[0m\u001b[1;33m)\u001b[0m\u001b[1;33m\u001b[0m\u001b[1;33m\u001b[0m\u001b[0m\n\u001b[0m\u001b[0;32m     18\u001b[0m     \u001b[0mdf\u001b[0m \u001b[1;33m=\u001b[0m \u001b[0mfix_dataframe\u001b[0m\u001b[1;33m(\u001b[0m\u001b[0mdf\u001b[0m\u001b[1;33m)\u001b[0m\u001b[1;33m\u001b[0m\u001b[1;33m\u001b[0m\u001b[0m\n\u001b[0;32m     19\u001b[0m     \u001b[1;32mreturn\u001b[0m \u001b[0mdf\u001b[0m\u001b[1;33m\u001b[0m\u001b[1;33m\u001b[0m\u001b[0m\n",
      "\u001b[1;32m<ipython-input-2-61b9edd03928>\u001b[0m in \u001b[0;36mread_ftd_data_any_stock\u001b[1;34m(cusip_number, symbol)\u001b[0m\n\u001b[0;32m     57\u001b[0m             \u001b[0mnew_df\u001b[0m \u001b[1;33m=\u001b[0m \u001b[0mread_ftd_file\u001b[0m\u001b[1;33m(\u001b[0m\u001b[0mcsv_path\u001b[0m\u001b[1;33m=\u001b[0m\u001b[0mfilename\u001b[0m \u001b[1;33m,\u001b[0m\u001b[0mcusip_number\u001b[0m\u001b[1;33m=\u001b[0m\u001b[0mcusip_number\u001b[0m\u001b[1;33m,\u001b[0m\u001b[0msymbol\u001b[0m\u001b[1;33m=\u001b[0m\u001b[0msymbol\u001b[0m\u001b[1;33m)\u001b[0m\u001b[1;33m\u001b[0m\u001b[1;33m\u001b[0m\u001b[0m\n\u001b[0;32m     58\u001b[0m         \u001b[1;32melse\u001b[0m\u001b[1;33m:\u001b[0m\u001b[1;33m\u001b[0m\u001b[1;33m\u001b[0m\u001b[0m\n\u001b[1;32m---> 59\u001b[1;33m             \u001b[0mnew_df2\u001b[0m \u001b[1;33m=\u001b[0m \u001b[0mread_ftd_file\u001b[0m\u001b[1;33m(\u001b[0m\u001b[0mcsv_path\u001b[0m\u001b[1;33m=\u001b[0m\u001b[0mfilename\u001b[0m \u001b[1;33m,\u001b[0m\u001b[0mcusip_number\u001b[0m\u001b[1;33m=\u001b[0m\u001b[0mcusip_number\u001b[0m\u001b[1;33m,\u001b[0m\u001b[0msymbol\u001b[0m\u001b[1;33m=\u001b[0m\u001b[0msymbol\u001b[0m\u001b[1;33m)\u001b[0m\u001b[1;33m\u001b[0m\u001b[1;33m\u001b[0m\u001b[0m\n\u001b[0m\u001b[0;32m     60\u001b[0m             \u001b[0mnew_df\u001b[0m \u001b[1;33m=\u001b[0m \u001b[0mconcat_df\u001b[0m\u001b[1;33m(\u001b[0m\u001b[0mnew_df\u001b[0m\u001b[1;33m,\u001b[0m\u001b[0mnew_df2\u001b[0m\u001b[1;33m)\u001b[0m\u001b[1;33m\u001b[0m\u001b[1;33m\u001b[0m\u001b[0m\n\u001b[0;32m     61\u001b[0m \u001b[1;33m\u001b[0m\u001b[0m\n",
      "\u001b[1;32m<ipython-input-2-61b9edd03928>\u001b[0m in \u001b[0;36mread_ftd_file\u001b[1;34m(csv_path, cusip_number, symbol)\u001b[0m\n\u001b[0;32m     37\u001b[0m \u001b[1;33m\u001b[0m\u001b[0m\n\u001b[0;32m     38\u001b[0m     \u001b[0mnew_data\u001b[0m \u001b[1;33m=\u001b[0m \u001b[0mnew_data\u001b[0m\u001b[1;33m.\u001b[0m\u001b[0mset_index\u001b[0m\u001b[1;33m(\u001b[0m\u001b[1;34m\"CUSIP\"\u001b[0m\u001b[1;33m)\u001b[0m\u001b[1;33m\u001b[0m\u001b[1;33m\u001b[0m\u001b[0m\n\u001b[1;32m---> 39\u001b[1;33m     \u001b[0mnew_data\u001b[0m \u001b[1;33m=\u001b[0m \u001b[0mnew_data\u001b[0m\u001b[1;33m.\u001b[0m\u001b[0mloc\u001b[0m\u001b[1;33m[\u001b[0m\u001b[0mcusip_number\u001b[0m\u001b[1;33m]\u001b[0m\u001b[1;33m\u001b[0m\u001b[1;33m\u001b[0m\u001b[0m\n\u001b[0m\u001b[0;32m     40\u001b[0m \u001b[1;33m\u001b[0m\u001b[0m\n\u001b[0;32m     41\u001b[0m     \u001b[0mnew_data\u001b[0m \u001b[1;33m=\u001b[0m \u001b[0mnew_data\u001b[0m\u001b[1;33m[\u001b[0m\u001b[1;33m[\u001b[0m\u001b[1;34m'Date'\u001b[0m\u001b[1;33m,\u001b[0m\u001b[1;34m'QUANTITY_FAILS'\u001b[0m\u001b[1;33m,\u001b[0m\u001b[1;34m'PRICE'\u001b[0m\u001b[1;33m]\u001b[0m\u001b[1;33m]\u001b[0m\u001b[1;33m\u001b[0m\u001b[1;33m\u001b[0m\u001b[0m\n",
      "\u001b[1;32m~\\anaconda3\\envs\\pyvizenv\\lib\\site-packages\\pandas\\core\\indexing.py\u001b[0m in \u001b[0;36m__getitem__\u001b[1;34m(self, key)\u001b[0m\n\u001b[0;32m    893\u001b[0m \u001b[1;33m\u001b[0m\u001b[0m\n\u001b[0;32m    894\u001b[0m             \u001b[0mmaybe_callable\u001b[0m \u001b[1;33m=\u001b[0m \u001b[0mcom\u001b[0m\u001b[1;33m.\u001b[0m\u001b[0mapply_if_callable\u001b[0m\u001b[1;33m(\u001b[0m\u001b[0mkey\u001b[0m\u001b[1;33m,\u001b[0m \u001b[0mself\u001b[0m\u001b[1;33m.\u001b[0m\u001b[0mobj\u001b[0m\u001b[1;33m)\u001b[0m\u001b[1;33m\u001b[0m\u001b[1;33m\u001b[0m\u001b[0m\n\u001b[1;32m--> 895\u001b[1;33m             \u001b[1;32mreturn\u001b[0m \u001b[0mself\u001b[0m\u001b[1;33m.\u001b[0m\u001b[0m_getitem_axis\u001b[0m\u001b[1;33m(\u001b[0m\u001b[0mmaybe_callable\u001b[0m\u001b[1;33m,\u001b[0m \u001b[0maxis\u001b[0m\u001b[1;33m=\u001b[0m\u001b[0maxis\u001b[0m\u001b[1;33m)\u001b[0m\u001b[1;33m\u001b[0m\u001b[1;33m\u001b[0m\u001b[0m\n\u001b[0m\u001b[0;32m    896\u001b[0m \u001b[1;33m\u001b[0m\u001b[0m\n\u001b[0;32m    897\u001b[0m     \u001b[1;32mdef\u001b[0m \u001b[0m_is_scalar_access\u001b[0m\u001b[1;33m(\u001b[0m\u001b[0mself\u001b[0m\u001b[1;33m,\u001b[0m \u001b[0mkey\u001b[0m\u001b[1;33m:\u001b[0m \u001b[0mTuple\u001b[0m\u001b[1;33m)\u001b[0m\u001b[1;33m:\u001b[0m\u001b[1;33m\u001b[0m\u001b[1;33m\u001b[0m\u001b[0m\n",
      "\u001b[1;32m~\\anaconda3\\envs\\pyvizenv\\lib\\site-packages\\pandas\\core\\indexing.py\u001b[0m in \u001b[0;36m_getitem_axis\u001b[1;34m(self, key, axis)\u001b[0m\n\u001b[0;32m   1122\u001b[0m         \u001b[1;31m# fall thru to straight lookup\u001b[0m\u001b[1;33m\u001b[0m\u001b[1;33m\u001b[0m\u001b[1;33m\u001b[0m\u001b[0m\n\u001b[0;32m   1123\u001b[0m         \u001b[0mself\u001b[0m\u001b[1;33m.\u001b[0m\u001b[0m_validate_key\u001b[0m\u001b[1;33m(\u001b[0m\u001b[0mkey\u001b[0m\u001b[1;33m,\u001b[0m \u001b[0maxis\u001b[0m\u001b[1;33m)\u001b[0m\u001b[1;33m\u001b[0m\u001b[1;33m\u001b[0m\u001b[0m\n\u001b[1;32m-> 1124\u001b[1;33m         \u001b[1;32mreturn\u001b[0m \u001b[0mself\u001b[0m\u001b[1;33m.\u001b[0m\u001b[0m_get_label\u001b[0m\u001b[1;33m(\u001b[0m\u001b[0mkey\u001b[0m\u001b[1;33m,\u001b[0m \u001b[0maxis\u001b[0m\u001b[1;33m=\u001b[0m\u001b[0maxis\u001b[0m\u001b[1;33m)\u001b[0m\u001b[1;33m\u001b[0m\u001b[1;33m\u001b[0m\u001b[0m\n\u001b[0m\u001b[0;32m   1125\u001b[0m \u001b[1;33m\u001b[0m\u001b[0m\n\u001b[0;32m   1126\u001b[0m     \u001b[1;32mdef\u001b[0m \u001b[0m_get_slice_axis\u001b[0m\u001b[1;33m(\u001b[0m\u001b[0mself\u001b[0m\u001b[1;33m,\u001b[0m \u001b[0mslice_obj\u001b[0m\u001b[1;33m:\u001b[0m \u001b[0mslice\u001b[0m\u001b[1;33m,\u001b[0m \u001b[0maxis\u001b[0m\u001b[1;33m:\u001b[0m \u001b[0mint\u001b[0m\u001b[1;33m)\u001b[0m\u001b[1;33m:\u001b[0m\u001b[1;33m\u001b[0m\u001b[1;33m\u001b[0m\u001b[0m\n",
      "\u001b[1;32m~\\anaconda3\\envs\\pyvizenv\\lib\\site-packages\\pandas\\core\\indexing.py\u001b[0m in \u001b[0;36m_get_label\u001b[1;34m(self, label, axis)\u001b[0m\n\u001b[0;32m   1071\u001b[0m     \u001b[1;32mdef\u001b[0m \u001b[0m_get_label\u001b[0m\u001b[1;33m(\u001b[0m\u001b[0mself\u001b[0m\u001b[1;33m,\u001b[0m \u001b[0mlabel\u001b[0m\u001b[1;33m,\u001b[0m \u001b[0maxis\u001b[0m\u001b[1;33m:\u001b[0m \u001b[0mint\u001b[0m\u001b[1;33m)\u001b[0m\u001b[1;33m:\u001b[0m\u001b[1;33m\u001b[0m\u001b[1;33m\u001b[0m\u001b[0m\n\u001b[0;32m   1072\u001b[0m         \u001b[1;31m# GH#5667 this will fail if the label is not present in the axis.\u001b[0m\u001b[1;33m\u001b[0m\u001b[1;33m\u001b[0m\u001b[1;33m\u001b[0m\u001b[0m\n\u001b[1;32m-> 1073\u001b[1;33m         \u001b[1;32mreturn\u001b[0m \u001b[0mself\u001b[0m\u001b[1;33m.\u001b[0m\u001b[0mobj\u001b[0m\u001b[1;33m.\u001b[0m\u001b[0mxs\u001b[0m\u001b[1;33m(\u001b[0m\u001b[0mlabel\u001b[0m\u001b[1;33m,\u001b[0m \u001b[0maxis\u001b[0m\u001b[1;33m=\u001b[0m\u001b[0maxis\u001b[0m\u001b[1;33m)\u001b[0m\u001b[1;33m\u001b[0m\u001b[1;33m\u001b[0m\u001b[0m\n\u001b[0m\u001b[0;32m   1074\u001b[0m \u001b[1;33m\u001b[0m\u001b[0m\n\u001b[0;32m   1075\u001b[0m     \u001b[1;32mdef\u001b[0m \u001b[0m_handle_lowerdim_multi_index_axis0\u001b[0m\u001b[1;33m(\u001b[0m\u001b[0mself\u001b[0m\u001b[1;33m,\u001b[0m \u001b[0mtup\u001b[0m\u001b[1;33m:\u001b[0m \u001b[0mTuple\u001b[0m\u001b[1;33m)\u001b[0m\u001b[1;33m:\u001b[0m\u001b[1;33m\u001b[0m\u001b[1;33m\u001b[0m\u001b[0m\n",
      "\u001b[1;32m~\\anaconda3\\envs\\pyvizenv\\lib\\site-packages\\pandas\\core\\generic.py\u001b[0m in \u001b[0;36mxs\u001b[1;34m(self, key, axis, level, drop_level)\u001b[0m\n\u001b[0;32m   3737\u001b[0m                 \u001b[1;32mraise\u001b[0m \u001b[0mTypeError\u001b[0m\u001b[1;33m(\u001b[0m\u001b[1;34mf\"Expected label or tuple of labels, got {key}\"\u001b[0m\u001b[1;33m)\u001b[0m \u001b[1;32mfrom\u001b[0m \u001b[0me\u001b[0m\u001b[1;33m\u001b[0m\u001b[1;33m\u001b[0m\u001b[0m\n\u001b[0;32m   3738\u001b[0m         \u001b[1;32melse\u001b[0m\u001b[1;33m:\u001b[0m\u001b[1;33m\u001b[0m\u001b[1;33m\u001b[0m\u001b[0m\n\u001b[1;32m-> 3739\u001b[1;33m             \u001b[0mloc\u001b[0m \u001b[1;33m=\u001b[0m \u001b[0mindex\u001b[0m\u001b[1;33m.\u001b[0m\u001b[0mget_loc\u001b[0m\u001b[1;33m(\u001b[0m\u001b[0mkey\u001b[0m\u001b[1;33m)\u001b[0m\u001b[1;33m\u001b[0m\u001b[1;33m\u001b[0m\u001b[0m\n\u001b[0m\u001b[0;32m   3740\u001b[0m \u001b[1;33m\u001b[0m\u001b[0m\n\u001b[0;32m   3741\u001b[0m             \u001b[1;32mif\u001b[0m \u001b[0misinstance\u001b[0m\u001b[1;33m(\u001b[0m\u001b[0mloc\u001b[0m\u001b[1;33m,\u001b[0m \u001b[0mnp\u001b[0m\u001b[1;33m.\u001b[0m\u001b[0mndarray\u001b[0m\u001b[1;33m)\u001b[0m\u001b[1;33m:\u001b[0m\u001b[1;33m\u001b[0m\u001b[1;33m\u001b[0m\u001b[0m\n",
      "\u001b[1;32m~\\anaconda3\\envs\\pyvizenv\\lib\\site-packages\\pandas\\core\\indexes\\base.py\u001b[0m in \u001b[0;36mget_loc\u001b[1;34m(self, key, method, tolerance)\u001b[0m\n\u001b[0;32m   3080\u001b[0m                 \u001b[1;32mreturn\u001b[0m \u001b[0mself\u001b[0m\u001b[1;33m.\u001b[0m\u001b[0m_engine\u001b[0m\u001b[1;33m.\u001b[0m\u001b[0mget_loc\u001b[0m\u001b[1;33m(\u001b[0m\u001b[0mcasted_key\u001b[0m\u001b[1;33m)\u001b[0m\u001b[1;33m\u001b[0m\u001b[1;33m\u001b[0m\u001b[0m\n\u001b[0;32m   3081\u001b[0m             \u001b[1;32mexcept\u001b[0m \u001b[0mKeyError\u001b[0m \u001b[1;32mas\u001b[0m \u001b[0merr\u001b[0m\u001b[1;33m:\u001b[0m\u001b[1;33m\u001b[0m\u001b[1;33m\u001b[0m\u001b[0m\n\u001b[1;32m-> 3082\u001b[1;33m                 \u001b[1;32mraise\u001b[0m \u001b[0mKeyError\u001b[0m\u001b[1;33m(\u001b[0m\u001b[0mkey\u001b[0m\u001b[1;33m)\u001b[0m \u001b[1;32mfrom\u001b[0m \u001b[0merr\u001b[0m\u001b[1;33m\u001b[0m\u001b[1;33m\u001b[0m\u001b[0m\n\u001b[0m\u001b[0;32m   3083\u001b[0m \u001b[1;33m\u001b[0m\u001b[0m\n\u001b[0;32m   3084\u001b[0m         \u001b[1;32mif\u001b[0m \u001b[0mtolerance\u001b[0m \u001b[1;32mis\u001b[0m \u001b[1;32mnot\u001b[0m \u001b[1;32mNone\u001b[0m\u001b[1;33m:\u001b[0m\u001b[1;33m\u001b[0m\u001b[1;33m\u001b[0m\u001b[0m\n",
      "\u001b[1;31mKeyError\u001b[0m: 'C00948106'"
     ]
    }
   ],
   "source": [
    "test_return1 = return_dataframe(cusip_10['CUSIP'][0],cusip_10['SYMBOL'][0])\n",
    "test_return2= return_dataframe(cusip_10['CUSIP'][1],cusip_10['SYMBOL'][1])"
   ]
  },
  {
   "cell_type": "code",
   "execution_count": null,
   "id": "fa8ea514",
   "metadata": {},
   "outputs": [],
   "source": [
    "empty1_list = []\n",
    "empty1_list.append(test_return1)\n",
    "empty1_list.append(test_return2)\n",
    "empty1_list"
   ]
  },
  {
   "cell_type": "code",
   "execution_count": null,
   "id": "a40900e5",
   "metadata": {},
   "outputs": [],
   "source": []
  }
 ],
 "metadata": {
  "kernelspec": {
   "display_name": "Python 3",
   "language": "python",
   "name": "python3"
  },
  "language_info": {
   "codemirror_mode": {
    "name": "ipython",
    "version": 3
   },
   "file_extension": ".py",
   "mimetype": "text/x-python",
   "name": "python",
   "nbconvert_exporter": "python",
   "pygments_lexer": "ipython3",
   "version": "3.7.10"
  }
 },
 "nbformat": 4,
 "nbformat_minor": 5
}
