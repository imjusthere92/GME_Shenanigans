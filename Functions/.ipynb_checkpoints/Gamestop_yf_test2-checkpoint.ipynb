{
 "cells": [
  {
   "cell_type": "code",
   "execution_count": 1,
   "id": "4489d8cc-7230-4e6d-83b1-ebfeef85e565",
   "metadata": {},
   "outputs": [],
   "source": [
    "## Install yahoo finance \n",
    "\n",
    "# pip install yfinance "
   ]
  },
  {
   "cell_type": "code",
   "execution_count": 2,
   "id": "e273802c-9b10-47c7-9887-255c6e17acf1",
   "metadata": {},
   "outputs": [],
   "source": [
    "import yfinance as yf\n",
    "\n",
    "# import os\n",
    "# import requests\n",
    "import pandas as pd\n",
    "# from pandas_datareader import data as pdr\n",
    "# from dotenv import load_dotenv\n",
    "# import alpaca_trade_api as tradeapi\n",
    "\n",
    "# %matplotlib inline\n",
    "# gme_floatShares_Sep_11_2021 = 249507367"
   ]
  },
  {
   "cell_type": "code",
   "execution_count": 3,
   "id": "6773d73e-ec7e-4f15-80a1-75ec9a38b7cc",
   "metadata": {},
   "outputs": [],
   "source": [
    "gamestop = yf.Ticker(\"GME\")"
   ]
  },
  {
   "cell_type": "code",
   "execution_count": 4,
   "id": "19b02332-6320-4af0-83c7-85bc044ad357",
   "metadata": {},
   "outputs": [],
   "source": [
    "gme = gamestop.info"
   ]
  },
  {
   "cell_type": "code",
   "execution_count": 5,
   "id": "eab30cc8-6c0e-450e-87d6-abdba8158eb1",
   "metadata": {},
   "outputs": [
    {
     "data": {
      "text/plain": [
       "76491504"
      ]
     },
     "execution_count": 5,
     "metadata": {},
     "output_type": "execute_result"
    }
   ],
   "source": [
    "gme['sharesOutstanding']"
   ]
  },
  {
   "cell_type": "code",
   "execution_count": 6,
   "id": "b172570f-a7a1-41b6-85d6-e1a22c7d326a",
   "metadata": {},
   "outputs": [
    {
     "data": {
      "text/plain": [
       "249507367"
      ]
     },
     "execution_count": 6,
     "metadata": {},
     "output_type": "execute_result"
    }
   ],
   "source": [
    "gme['floatShares']"
   ]
  },
  {
   "cell_type": "code",
   "execution_count": 7,
   "id": "2989e36d-9ed1-49f8-84fe-cd2aea9d6523",
   "metadata": {},
   "outputs": [],
   "source": [
    "#print(gme)"
   ]
  },
  {
   "cell_type": "code",
   "execution_count": 8,
   "id": "ee124e37-782f-4f84-a462-f82189c0a595",
   "metadata": {},
   "outputs": [
    {
     "name": "stdout",
     "output_type": "stream",
     "text": [
      "1001769984\n",
      "\n",
      "801734075\n"
     ]
    }
   ],
   "source": [
    "tesla = yf.Ticker(\"TSLA\")\n",
    "\n",
    "tsla = tesla.info\n",
    "\n",
    "print(tsla['sharesOutstanding'])\n",
    "print()\n",
    "print(tsla['floatShares'])"
   ]
  },
  {
   "cell_type": "code",
   "execution_count": 9,
   "id": "0aed3450-a964-406d-b889-db51098f5198",
   "metadata": {},
   "outputs": [],
   "source": [
    "def share_float_function(ticker):\n",
    "    # get ticker data and read relevant statistics into usable format from .info \n",
    "    ticker_data = yf.Ticker(ticker)\n",
    "    ticker_info = ticker_data.info\n",
    "    \n",
    "    # access values \n",
    "    sharesOutstanding = float(ticker_info['sharesOutstanding'])\n",
    "    floatShares = float(ticker_info['floatShares'])\n",
    "    \n",
    "    # Calculate percentage of float compared to outstanding \n",
    "    percentage = floatShares / sharesOutstanding * 100 \n",
    "    percentage = round(percentage, 2)\n",
    "    print(\"Shares outstanding =\", sharesOutstanding)\n",
    "    print(\"Shares in float =\", floatShares)\n",
    "    print(f\"Percentage of outstanding = \"+str(percentage)+\"%\")\n",
    "    return percentage"
   ]
  },
  {
   "cell_type": "code",
   "execution_count": 10,
   "id": "1300e455-164c-4aad-ab88-057836253e8f",
   "metadata": {},
   "outputs": [
    {
     "name": "stdout",
     "output_type": "stream",
     "text": [
      "Shares outstanding = 76491504.0\n",
      "Shares in float = 249507367.0\n",
      "Percentage of outstanding = 326.19%\n"
     ]
    },
    {
     "data": {
      "text/plain": [
       "326.19"
      ]
     },
     "execution_count": 10,
     "metadata": {},
     "output_type": "execute_result"
    }
   ],
   "source": [
    "share_float_function(\"GME\")"
   ]
  },
  {
   "cell_type": "code",
   "execution_count": 11,
   "id": "167825cc-47c2-4fd6-a0b6-36977bb18f15",
   "metadata": {},
   "outputs": [
    {
     "name": "stdout",
     "output_type": "stream",
     "text": [
      "Shares outstanding = 1001769984.0\n",
      "Shares in float = 801734075.0\n",
      "Percentage of outstanding = 80.03%\n"
     ]
    },
    {
     "data": {
      "text/plain": [
       "80.03"
      ]
     },
     "execution_count": 11,
     "metadata": {},
     "output_type": "execute_result"
    }
   ],
   "source": [
    "share_float_function(\"TSLA\")"
   ]
  },
  {
   "cell_type": "code",
   "execution_count": 12,
   "id": "6d8542a5-0b34-49b5-8d2e-272da5d6af86",
   "metadata": {},
   "outputs": [],
   "source": [
    "# x = input('Enter your Ticker:')\n",
    "# print('Ticker = ' + x)\n",
    "# print()\n",
    "\n",
    "# share_float_function(x)"
   ]
  },
  {
   "cell_type": "code",
   "execution_count": 13,
   "id": "56694c76-542f-40aa-8246-b5ea4e90376d",
   "metadata": {},
   "outputs": [],
   "source": [
    "def repeating_function():\n",
    "    again = \"y\"\n",
    "    \n",
    "    while again == \"y\":\n",
    "            x = input('Enter your Ticker:')\n",
    "            print('Ticker = ' + x)\n",
    "            print()\n",
    "\n",
    "            share_float_function(x)\n",
    "            print()\n",
    "\n",
    "            again = input('Run again? (y/n) :') \n",
    "            \n",
    "    else: return"
   ]
  },
  {
   "cell_type": "code",
   "execution_count": null,
   "id": "b69eb903-5d25-42f1-b58d-e65e93f2d813",
   "metadata": {},
   "outputs": [
    {
     "name": "stdin",
     "output_type": "stream",
     "text": [
      "Enter your Ticker: FB\n"
     ]
    },
    {
     "name": "stdout",
     "output_type": "stream",
     "text": [
      "Ticker = FB\n",
      "\n",
      "Shares outstanding = 2383810048.0\n",
      "Shares in float = 2372224214.0\n",
      "Percentage of outstanding = 99.51%\n",
      "\n"
     ]
    }
   ],
   "source": [
    "repeating_function()"
   ]
  },
  {
   "cell_type": "code",
   "execution_count": null,
   "id": "dbbbdb22-44d8-48a4-a9e4-1c0d482d138d",
   "metadata": {},
   "outputs": [],
   "source": [
    "gme"
   ]
  },
  {
   "cell_type": "code",
   "execution_count": null,
   "id": "2999a0af-88a2-46d5-a60d-06d460735f80",
   "metadata": {},
   "outputs": [],
   "source": []
  }
 ],
 "metadata": {
  "kernelspec": {
   "display_name": "Python 3 (ipykernel)",
   "language": "python",
   "name": "python3"
  },
  "language_info": {
   "codemirror_mode": {
    "name": "ipython",
    "version": 3
   },
   "file_extension": ".py",
   "mimetype": "text/x-python",
   "name": "python",
   "nbconvert_exporter": "python",
   "pygments_lexer": "ipython3",
   "version": "3.8.8"
  }
 },
 "nbformat": 4,
 "nbformat_minor": 5
}
